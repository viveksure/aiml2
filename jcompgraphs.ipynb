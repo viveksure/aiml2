{
  "nbformat": 4,
  "nbformat_minor": 0,
  "metadata": {
    "colab": {
      "name": "jcompgraphs.ipynb",
      "provenance": [],
      "authorship_tag": "ABX9TyO9dkw2x5c1pcW1hyfeM+7G",
      "include_colab_link": true
    },
    "kernelspec": {
      "name": "python3",
      "display_name": "Python 3"
    },
    "language_info": {
      "name": "python"
    }
  },
  "cells": [
    {
      "cell_type": "markdown",
      "metadata": {
        "id": "view-in-github",
        "colab_type": "text"
      },
      "source": [
        "<a href=\"https://colab.research.google.com/github/viveksure/aiml2/blob/main/jcompgraphs.ipynb\" target=\"_parent\"><img src=\"https://colab.research.google.com/assets/colab-badge.svg\" alt=\"Open In Colab\"/></a>"
      ]
    },
    {
      "cell_type": "code",
      "execution_count": 2,
      "metadata": {
        "id": "rUzuncpaAJm2"
      },
      "outputs": [],
      "source": [
        "import pandas as pd"
      ]
    },
    {
      "cell_type": "code",
      "source": [
        "data=pd.read_csv('/content/turkish jcomp2.csv')\n",
        "data"
      ],
      "metadata": {
        "colab": {
          "base_uri": "https://localhost:8080/",
          "height": 487
        },
        "id": "QpE8WfUDAMY-",
        "outputId": "e0dbf485-cf1e-4531-8e34-2104955c568e"
      },
      "execution_count": 4,
      "outputs": [
        {
          "output_type": "execute_result",
          "data": {
            "text/plain": [
              "     Class  _RMSenergy_Mean  _Lowenergy_Mean  _Fluctuation_Mean  _Tempo_Mean  \\\n",
              "0    relax            0.052            0.591              9.136      130.043   \n",
              "1    relax            0.125            0.439              6.680      142.240   \n",
              "2    relax            0.046            0.639             10.578      188.154   \n",
              "3    relax            0.135            0.603             10.442       65.991   \n",
              "4    relax            0.066            0.591              9.769       88.890   \n",
              "..     ...              ...              ...                ...          ...   \n",
              "395  angry            0.174            0.578              5.265      161.144   \n",
              "396  angry            0.176            0.498              5.042      179.787   \n",
              "397  angry            0.187            0.557              4.724      134.032   \n",
              "398  angry            0.140            0.573              4.470      113.600   \n",
              "399  angry            0.086            0.475              5.343      151.748   \n",
              "\n",
              "     _MFCC_Mean_1  _MFCC_Mean_2  _MFCC_Mean_3  _MFCC_Mean_4  _MFCC_Mean_5  \\\n",
              "0           3.997         0.363         0.887         0.078         0.221   \n",
              "1           4.058         0.516         0.785         0.397         0.556   \n",
              "2           2.775         0.903         0.502         0.329         0.287   \n",
              "3           2.841         1.552         0.612         0.351         0.011   \n",
              "4           3.217         0.228         0.814         0.096         0.434   \n",
              "..            ...           ...           ...           ...           ...   \n",
              "395         2.985         0.065         0.718         0.046         0.265   \n",
              "396         2.790        -0.148         0.342        -0.011         0.029   \n",
              "397         1.672         0.566         0.880        -0.113         0.244   \n",
              "398         1.997        -0.210         0.694         0.089         0.206   \n",
              "399         2.240        -0.014         0.834        -0.021         0.345   \n",
              "\n",
              "     _MFCC_Mean_6  _MFCC_Mean_7  _MFCC_Mean_8  _MFCC_Mean_9  _MFCC_Mean_10  \\\n",
              "0           0.118        -0.151        -0.131         0.129          0.154   \n",
              "1           0.799        -0.403        -0.264        -0.057          0.288   \n",
              "2           0.140        -0.246         0.025        -0.112         -0.422   \n",
              "3           0.143         0.047         0.242         0.018          0.168   \n",
              "4           0.285         0.104         0.013        -0.235         -0.207   \n",
              "..            ...           ...           ...           ...            ...   \n",
              "395         0.104         0.198         0.076        -0.129         -0.057   \n",
              "396         0.039         0.065        -0.013        -0.129          0.029   \n",
              "397         0.214         0.278         0.170        -0.049         -0.056   \n",
              "398         0.062         0.173         0.243        -0.036         -0.149   \n",
              "399         0.266         0.310         0.155        -0.003          0.016   \n",
              "\n",
              "     _MFCC_Mean_11  _MFCC_Mean_12  _MFCC_Mean_13  _Roughness_Mean  \\\n",
              "0            0.274          0.232          0.246           51.542   \n",
              "1            0.309          0.049          0.027          336.839   \n",
              "2            0.018          0.179          0.138           39.864   \n",
              "3            0.141          0.245          0.146          353.744   \n",
              "4           -0.276         -0.294         -0.190           46.884   \n",
              "..             ...            ...            ...              ...   \n",
              "395         -0.173         -0.082          0.053          547.713   \n",
              "396         -0.038         -0.035          0.038         1121.910   \n",
              "397         -0.111         -0.003          0.011          889.926   \n",
              "398         -0.049         -0.078          0.035          408.726   \n",
              "399         -0.041         -0.055          0.075          258.400   \n",
              "\n",
              "     _Roughness_Slope  \n",
              "0               0.325  \n",
              "1               0.366  \n",
              "2               0.224  \n",
              "3               0.215  \n",
              "4              -0.118  \n",
              "..                ...  \n",
              "395             0.060  \n",
              "396             0.032  \n",
              "397            -0.010  \n",
              "398             0.174  \n",
              "399             0.000  \n",
              "\n",
              "[400 rows x 20 columns]"
            ],
            "text/html": [
              "\n",
              "  <div id=\"df-82588089-367d-4c02-9d2f-7d4f2e82d4fe\">\n",
              "    <div class=\"colab-df-container\">\n",
              "      <div>\n",
              "<style scoped>\n",
              "    .dataframe tbody tr th:only-of-type {\n",
              "        vertical-align: middle;\n",
              "    }\n",
              "\n",
              "    .dataframe tbody tr th {\n",
              "        vertical-align: top;\n",
              "    }\n",
              "\n",
              "    .dataframe thead th {\n",
              "        text-align: right;\n",
              "    }\n",
              "</style>\n",
              "<table border=\"1\" class=\"dataframe\">\n",
              "  <thead>\n",
              "    <tr style=\"text-align: right;\">\n",
              "      <th></th>\n",
              "      <th>Class</th>\n",
              "      <th>_RMSenergy_Mean</th>\n",
              "      <th>_Lowenergy_Mean</th>\n",
              "      <th>_Fluctuation_Mean</th>\n",
              "      <th>_Tempo_Mean</th>\n",
              "      <th>_MFCC_Mean_1</th>\n",
              "      <th>_MFCC_Mean_2</th>\n",
              "      <th>_MFCC_Mean_3</th>\n",
              "      <th>_MFCC_Mean_4</th>\n",
              "      <th>_MFCC_Mean_5</th>\n",
              "      <th>_MFCC_Mean_6</th>\n",
              "      <th>_MFCC_Mean_7</th>\n",
              "      <th>_MFCC_Mean_8</th>\n",
              "      <th>_MFCC_Mean_9</th>\n",
              "      <th>_MFCC_Mean_10</th>\n",
              "      <th>_MFCC_Mean_11</th>\n",
              "      <th>_MFCC_Mean_12</th>\n",
              "      <th>_MFCC_Mean_13</th>\n",
              "      <th>_Roughness_Mean</th>\n",
              "      <th>_Roughness_Slope</th>\n",
              "    </tr>\n",
              "  </thead>\n",
              "  <tbody>\n",
              "    <tr>\n",
              "      <th>0</th>\n",
              "      <td>relax</td>\n",
              "      <td>0.052</td>\n",
              "      <td>0.591</td>\n",
              "      <td>9.136</td>\n",
              "      <td>130.043</td>\n",
              "      <td>3.997</td>\n",
              "      <td>0.363</td>\n",
              "      <td>0.887</td>\n",
              "      <td>0.078</td>\n",
              "      <td>0.221</td>\n",
              "      <td>0.118</td>\n",
              "      <td>-0.151</td>\n",
              "      <td>-0.131</td>\n",
              "      <td>0.129</td>\n",
              "      <td>0.154</td>\n",
              "      <td>0.274</td>\n",
              "      <td>0.232</td>\n",
              "      <td>0.246</td>\n",
              "      <td>51.542</td>\n",
              "      <td>0.325</td>\n",
              "    </tr>\n",
              "    <tr>\n",
              "      <th>1</th>\n",
              "      <td>relax</td>\n",
              "      <td>0.125</td>\n",
              "      <td>0.439</td>\n",
              "      <td>6.680</td>\n",
              "      <td>142.240</td>\n",
              "      <td>4.058</td>\n",
              "      <td>0.516</td>\n",
              "      <td>0.785</td>\n",
              "      <td>0.397</td>\n",
              "      <td>0.556</td>\n",
              "      <td>0.799</td>\n",
              "      <td>-0.403</td>\n",
              "      <td>-0.264</td>\n",
              "      <td>-0.057</td>\n",
              "      <td>0.288</td>\n",
              "      <td>0.309</td>\n",
              "      <td>0.049</td>\n",
              "      <td>0.027</td>\n",
              "      <td>336.839</td>\n",
              "      <td>0.366</td>\n",
              "    </tr>\n",
              "    <tr>\n",
              "      <th>2</th>\n",
              "      <td>relax</td>\n",
              "      <td>0.046</td>\n",
              "      <td>0.639</td>\n",
              "      <td>10.578</td>\n",
              "      <td>188.154</td>\n",
              "      <td>2.775</td>\n",
              "      <td>0.903</td>\n",
              "      <td>0.502</td>\n",
              "      <td>0.329</td>\n",
              "      <td>0.287</td>\n",
              "      <td>0.140</td>\n",
              "      <td>-0.246</td>\n",
              "      <td>0.025</td>\n",
              "      <td>-0.112</td>\n",
              "      <td>-0.422</td>\n",
              "      <td>0.018</td>\n",
              "      <td>0.179</td>\n",
              "      <td>0.138</td>\n",
              "      <td>39.864</td>\n",
              "      <td>0.224</td>\n",
              "    </tr>\n",
              "    <tr>\n",
              "      <th>3</th>\n",
              "      <td>relax</td>\n",
              "      <td>0.135</td>\n",
              "      <td>0.603</td>\n",
              "      <td>10.442</td>\n",
              "      <td>65.991</td>\n",
              "      <td>2.841</td>\n",
              "      <td>1.552</td>\n",
              "      <td>0.612</td>\n",
              "      <td>0.351</td>\n",
              "      <td>0.011</td>\n",
              "      <td>0.143</td>\n",
              "      <td>0.047</td>\n",
              "      <td>0.242</td>\n",
              "      <td>0.018</td>\n",
              "      <td>0.168</td>\n",
              "      <td>0.141</td>\n",
              "      <td>0.245</td>\n",
              "      <td>0.146</td>\n",
              "      <td>353.744</td>\n",
              "      <td>0.215</td>\n",
              "    </tr>\n",
              "    <tr>\n",
              "      <th>4</th>\n",
              "      <td>relax</td>\n",
              "      <td>0.066</td>\n",
              "      <td>0.591</td>\n",
              "      <td>9.769</td>\n",
              "      <td>88.890</td>\n",
              "      <td>3.217</td>\n",
              "      <td>0.228</td>\n",
              "      <td>0.814</td>\n",
              "      <td>0.096</td>\n",
              "      <td>0.434</td>\n",
              "      <td>0.285</td>\n",
              "      <td>0.104</td>\n",
              "      <td>0.013</td>\n",
              "      <td>-0.235</td>\n",
              "      <td>-0.207</td>\n",
              "      <td>-0.276</td>\n",
              "      <td>-0.294</td>\n",
              "      <td>-0.190</td>\n",
              "      <td>46.884</td>\n",
              "      <td>-0.118</td>\n",
              "    </tr>\n",
              "    <tr>\n",
              "      <th>...</th>\n",
              "      <td>...</td>\n",
              "      <td>...</td>\n",
              "      <td>...</td>\n",
              "      <td>...</td>\n",
              "      <td>...</td>\n",
              "      <td>...</td>\n",
              "      <td>...</td>\n",
              "      <td>...</td>\n",
              "      <td>...</td>\n",
              "      <td>...</td>\n",
              "      <td>...</td>\n",
              "      <td>...</td>\n",
              "      <td>...</td>\n",
              "      <td>...</td>\n",
              "      <td>...</td>\n",
              "      <td>...</td>\n",
              "      <td>...</td>\n",
              "      <td>...</td>\n",
              "      <td>...</td>\n",
              "      <td>...</td>\n",
              "    </tr>\n",
              "    <tr>\n",
              "      <th>395</th>\n",
              "      <td>angry</td>\n",
              "      <td>0.174</td>\n",
              "      <td>0.578</td>\n",
              "      <td>5.265</td>\n",
              "      <td>161.144</td>\n",
              "      <td>2.985</td>\n",
              "      <td>0.065</td>\n",
              "      <td>0.718</td>\n",
              "      <td>0.046</td>\n",
              "      <td>0.265</td>\n",
              "      <td>0.104</td>\n",
              "      <td>0.198</td>\n",
              "      <td>0.076</td>\n",
              "      <td>-0.129</td>\n",
              "      <td>-0.057</td>\n",
              "      <td>-0.173</td>\n",
              "      <td>-0.082</td>\n",
              "      <td>0.053</td>\n",
              "      <td>547.713</td>\n",
              "      <td>0.060</td>\n",
              "    </tr>\n",
              "    <tr>\n",
              "      <th>396</th>\n",
              "      <td>angry</td>\n",
              "      <td>0.176</td>\n",
              "      <td>0.498</td>\n",
              "      <td>5.042</td>\n",
              "      <td>179.787</td>\n",
              "      <td>2.790</td>\n",
              "      <td>-0.148</td>\n",
              "      <td>0.342</td>\n",
              "      <td>-0.011</td>\n",
              "      <td>0.029</td>\n",
              "      <td>0.039</td>\n",
              "      <td>0.065</td>\n",
              "      <td>-0.013</td>\n",
              "      <td>-0.129</td>\n",
              "      <td>0.029</td>\n",
              "      <td>-0.038</td>\n",
              "      <td>-0.035</td>\n",
              "      <td>0.038</td>\n",
              "      <td>1121.910</td>\n",
              "      <td>0.032</td>\n",
              "    </tr>\n",
              "    <tr>\n",
              "      <th>397</th>\n",
              "      <td>angry</td>\n",
              "      <td>0.187</td>\n",
              "      <td>0.557</td>\n",
              "      <td>4.724</td>\n",
              "      <td>134.032</td>\n",
              "      <td>1.672</td>\n",
              "      <td>0.566</td>\n",
              "      <td>0.880</td>\n",
              "      <td>-0.113</td>\n",
              "      <td>0.244</td>\n",
              "      <td>0.214</td>\n",
              "      <td>0.278</td>\n",
              "      <td>0.170</td>\n",
              "      <td>-0.049</td>\n",
              "      <td>-0.056</td>\n",
              "      <td>-0.111</td>\n",
              "      <td>-0.003</td>\n",
              "      <td>0.011</td>\n",
              "      <td>889.926</td>\n",
              "      <td>-0.010</td>\n",
              "    </tr>\n",
              "    <tr>\n",
              "      <th>398</th>\n",
              "      <td>angry</td>\n",
              "      <td>0.140</td>\n",
              "      <td>0.573</td>\n",
              "      <td>4.470</td>\n",
              "      <td>113.600</td>\n",
              "      <td>1.997</td>\n",
              "      <td>-0.210</td>\n",
              "      <td>0.694</td>\n",
              "      <td>0.089</td>\n",
              "      <td>0.206</td>\n",
              "      <td>0.062</td>\n",
              "      <td>0.173</td>\n",
              "      <td>0.243</td>\n",
              "      <td>-0.036</td>\n",
              "      <td>-0.149</td>\n",
              "      <td>-0.049</td>\n",
              "      <td>-0.078</td>\n",
              "      <td>0.035</td>\n",
              "      <td>408.726</td>\n",
              "      <td>0.174</td>\n",
              "    </tr>\n",
              "    <tr>\n",
              "      <th>399</th>\n",
              "      <td>angry</td>\n",
              "      <td>0.086</td>\n",
              "      <td>0.475</td>\n",
              "      <td>5.343</td>\n",
              "      <td>151.748</td>\n",
              "      <td>2.240</td>\n",
              "      <td>-0.014</td>\n",
              "      <td>0.834</td>\n",
              "      <td>-0.021</td>\n",
              "      <td>0.345</td>\n",
              "      <td>0.266</td>\n",
              "      <td>0.310</td>\n",
              "      <td>0.155</td>\n",
              "      <td>-0.003</td>\n",
              "      <td>0.016</td>\n",
              "      <td>-0.041</td>\n",
              "      <td>-0.055</td>\n",
              "      <td>0.075</td>\n",
              "      <td>258.400</td>\n",
              "      <td>0.000</td>\n",
              "    </tr>\n",
              "  </tbody>\n",
              "</table>\n",
              "<p>400 rows × 20 columns</p>\n",
              "</div>\n",
              "      <button class=\"colab-df-convert\" onclick=\"convertToInteractive('df-82588089-367d-4c02-9d2f-7d4f2e82d4fe')\"\n",
              "              title=\"Convert this dataframe to an interactive table.\"\n",
              "              style=\"display:none;\">\n",
              "        \n",
              "  <svg xmlns=\"http://www.w3.org/2000/svg\" height=\"24px\"viewBox=\"0 0 24 24\"\n",
              "       width=\"24px\">\n",
              "    <path d=\"M0 0h24v24H0V0z\" fill=\"none\"/>\n",
              "    <path d=\"M18.56 5.44l.94 2.06.94-2.06 2.06-.94-2.06-.94-.94-2.06-.94 2.06-2.06.94zm-11 1L8.5 8.5l.94-2.06 2.06-.94-2.06-.94L8.5 2.5l-.94 2.06-2.06.94zm10 10l.94 2.06.94-2.06 2.06-.94-2.06-.94-.94-2.06-.94 2.06-2.06.94z\"/><path d=\"M17.41 7.96l-1.37-1.37c-.4-.4-.92-.59-1.43-.59-.52 0-1.04.2-1.43.59L10.3 9.45l-7.72 7.72c-.78.78-.78 2.05 0 2.83L4 21.41c.39.39.9.59 1.41.59.51 0 1.02-.2 1.41-.59l7.78-7.78 2.81-2.81c.8-.78.8-2.07 0-2.86zM5.41 20L4 18.59l7.72-7.72 1.47 1.35L5.41 20z\"/>\n",
              "  </svg>\n",
              "      </button>\n",
              "      \n",
              "  <style>\n",
              "    .colab-df-container {\n",
              "      display:flex;\n",
              "      flex-wrap:wrap;\n",
              "      gap: 12px;\n",
              "    }\n",
              "\n",
              "    .colab-df-convert {\n",
              "      background-color: #E8F0FE;\n",
              "      border: none;\n",
              "      border-radius: 50%;\n",
              "      cursor: pointer;\n",
              "      display: none;\n",
              "      fill: #1967D2;\n",
              "      height: 32px;\n",
              "      padding: 0 0 0 0;\n",
              "      width: 32px;\n",
              "    }\n",
              "\n",
              "    .colab-df-convert:hover {\n",
              "      background-color: #E2EBFA;\n",
              "      box-shadow: 0px 1px 2px rgba(60, 64, 67, 0.3), 0px 1px 3px 1px rgba(60, 64, 67, 0.15);\n",
              "      fill: #174EA6;\n",
              "    }\n",
              "\n",
              "    [theme=dark] .colab-df-convert {\n",
              "      background-color: #3B4455;\n",
              "      fill: #D2E3FC;\n",
              "    }\n",
              "\n",
              "    [theme=dark] .colab-df-convert:hover {\n",
              "      background-color: #434B5C;\n",
              "      box-shadow: 0px 1px 3px 1px rgba(0, 0, 0, 0.15);\n",
              "      filter: drop-shadow(0px 1px 2px rgba(0, 0, 0, 0.3));\n",
              "      fill: #FFFFFF;\n",
              "    }\n",
              "  </style>\n",
              "\n",
              "      <script>\n",
              "        const buttonEl =\n",
              "          document.querySelector('#df-82588089-367d-4c02-9d2f-7d4f2e82d4fe button.colab-df-convert');\n",
              "        buttonEl.style.display =\n",
              "          google.colab.kernel.accessAllowed ? 'block' : 'none';\n",
              "\n",
              "        async function convertToInteractive(key) {\n",
              "          const element = document.querySelector('#df-82588089-367d-4c02-9d2f-7d4f2e82d4fe');\n",
              "          const dataTable =\n",
              "            await google.colab.kernel.invokeFunction('convertToInteractive',\n",
              "                                                     [key], {});\n",
              "          if (!dataTable) return;\n",
              "\n",
              "          const docLinkHtml = 'Like what you see? Visit the ' +\n",
              "            '<a target=\"_blank\" href=https://colab.research.google.com/notebooks/data_table.ipynb>data table notebook</a>'\n",
              "            + ' to learn more about interactive tables.';\n",
              "          element.innerHTML = '';\n",
              "          dataTable['output_type'] = 'display_data';\n",
              "          await google.colab.output.renderOutput(dataTable, element);\n",
              "          const docLink = document.createElement('div');\n",
              "          docLink.innerHTML = docLinkHtml;\n",
              "          element.appendChild(docLink);\n",
              "        }\n",
              "      </script>\n",
              "    </div>\n",
              "  </div>\n",
              "  "
            ]
          },
          "metadata": {},
          "execution_count": 4
        }
      ]
    },
    {
      "cell_type": "code",
      "source": [
        "import matplotlib.pyplot as pt\n",
        "x1=data['_RMSenergy_Mean']\n",
        "y=data['Class']\n",
        "pt.plot(x1,y)"
      ],
      "metadata": {
        "colab": {
          "base_uri": "https://localhost:8080/",
          "height": 282
        },
        "id": "AH0T2Qk4AbFB",
        "outputId": "b480eea6-5aa4-4a3f-b595-b0c70ed98eb7"
      },
      "execution_count": 7,
      "outputs": [
        {
          "output_type": "execute_result",
          "data": {
            "text/plain": [
              "[<matplotlib.lines.Line2D at 0x7ff8e89cf610>]"
            ]
          },
          "metadata": {},
          "execution_count": 7
        },
        {
          "output_type": "display_data",
          "data": {
            "text/plain": [
              "<Figure size 432x288 with 1 Axes>"
            ],
            "image/png": "[encoded data removed]"
          },
          "metadata": {
            "needs_background": "light"
          }
        }
      ]
    },
    {
      "cell_type": "code",
      "source": [
        "x2=data['_Lowenergy_Mean']\n",
        "y=data['Class']\n",
        "pt.plot(x2,y)"
      ],
      "metadata": {
        "colab": {
          "base_uri": "https://localhost:8080/",
          "height": 282
        },
        "id": "G_rNEtBFBCmO",
        "outputId": "92ea6de5-f566-41b8-d4ac-fc7a639e11e9"
      },
      "execution_count": 8,
      "outputs": [
        {
          "output_type": "execute_result",
          "data": {
            "text/plain": [
              "[<matplotlib.lines.Line2D at 0x7ff8e645f790>]"
            ]
          },
          "metadata": {},
          "execution_count": 8
        },
        {
          "output_type": "display_data",
          "data": {
            "text/plain": [
              "<Figure size 432x288 with 1 Axes>"
            ],
            "image/png": "[encoded data removed]"
          },
          "metadata": {
            "needs_background": "light"
          }
        }
      ]
    },
    {
      "cell_type": "code",
      "source": [
        "x3=data['_Fluctuation_Mean']\n",
        "y=data['Class']\n",
        "pt.plot(x3,y)"
      ],
      "metadata": {
        "colab": {
          "base_uri": "https://localhost:8080/",
          "height": 282
        },
        "id": "tqYbTeAFBTqi",
        "outputId": "bcdd55b2-61c7-4932-aedc-895406ae1937"
      },
      "execution_count": 9,
      "outputs": [
        {
          "output_type": "execute_result",
          "data": {
            "text/plain": [
              "[<matplotlib.lines.Line2D at 0x7ff8e63d2750>]"
            ]
          },
          "metadata": {},
          "execution_count": 9
        },
        {
          "output_type": "display_data",
          "data": {
            "text/plain": [
              "<Figure size 432x288 with 1 Axes>"
            ],
            "image/png": "[encoded data removed]"
          },
          "metadata": {
            "needs_background": "light"
          }
        }
      ]
    },
    {
      "cell_type": "code",
      "source": [
        "x4=data['_Tempo_Mean']\n",
        "y=data['Class']\n",
        "pt.plot(x4,y)"
      ],
      "metadata": {
        "colab": {
          "base_uri": "https://localhost:8080/",
          "height": 282
        },
        "id": "uPjIaexeBeIo",
        "outputId": "0cec8801-b877-4b0c-fc8c-fb92edef2de0"
      },
      "execution_count": 11,
      "outputs": [
        {
          "output_type": "execute_result",
          "data": {
            "text/plain": [
              "[<matplotlib.lines.Line2D at 0x7ff8e63c0810>]"
            ]
          },
          "metadata": {},
          "execution_count": 11
        },
        {
          "output_type": "display_data",
          "data": {
            "text/plain": [
              "<Figure size 432x288 with 1 Axes>"
            ],
            "image/png": "[encoded data removed]"
          },
          "metadata": {
            "needs_background": "light"
          }
        }
      ]
    },
    {
      "cell_type": "code",
      "source": [
        "x5=data['_MFCC_Mean_1']\n",
        "y=data['Class']\n",
        "pt.plot(x5,y)"
      ],
      "metadata": {
        "colab": {
          "base_uri": "https://localhost:8080/",
          "height": 282
        },
        "id": "4q4sEQwVBoS7",
        "outputId": "0025383c-9258-45f3-d4e7-d7f5ee770d08"
      },
      "execution_count": 13,
      "outputs": [
        {
          "output_type": "execute_result",
          "data": {
            "text/plain": [
              "[<matplotlib.lines.Line2D at 0x7ff8e632c710>]"
            ]
          },
          "metadata": {},
          "execution_count": 13
        },
        {
          "output_type": "display_data",
          "data": {
            "text/plain": [
              "<Figure size 432x288 with 1 Axes>"
            ],
            "image/png": "[encoded data removed]"
          },
          "metadata": {
            "needs_background": "light"
          }
        }
      ]
    },
    {
      "cell_type": "code",
      "source": [
        "x6=data['_MFCC_Mean_2']\n",
        "y=data['Class']\n",
        "pt.plot(x6,y)"
      ],
      "metadata": {
        "colab": {
          "base_uri": "https://localhost:8080/",
          "height": 282
        },
        "id": "WJDHQE5rB2PB",
        "outputId": "50b04f2b-b269-4d37-8c50-ba9c1ebfb001"
      },
      "execution_count": 14,
      "outputs": [
        {
          "output_type": "execute_result",
          "data": {
            "text/plain": [
              "[<matplotlib.lines.Line2D at 0x7ff8e628a950>]"
            ]
          },
          "metadata": {},
          "execution_count": 14
        },
        {
          "output_type": "display_data",
          "data": {
            "text/plain": [
              "<Figure size 432x288 with 1 Axes>"
            ],
            "image/png": "[encoded data removed]"
          },
          "metadata": {
            "needs_background": "light"
          }
        }
      ]
    },
    {
      "cell_type": "code",
      "source": [
        "x7=data['_MFCC_Mean_3']\n",
        "y=data['Class']\n",
        "pt.plot(x7,y)"
      ],
      "metadata": {
        "colab": {
          "base_uri": "https://localhost:8080/",
          "height": 282
        },
        "id": "L1KWG7N6CHYq",
        "outputId": "4f72f908-88dd-4bc3-e898-7fe36626dc33"
      },
      "execution_count": 15,
      "outputs": [
        {
          "output_type": "execute_result",
          "data": {
            "text/plain": [
              "[<matplotlib.lines.Line2D at 0x7ff8e626dbd0>]"
            ]
          },
          "metadata": {},
          "execution_count": 15
        },
        {
          "output_type": "display_data",
          "data": {
            "text/plain": [
              "<Figure size 432x288 with 1 Axes>"
            ],
            "image/png": "[encoded data removed]"
          },
          "metadata": {
            "needs_background": "light"
          }
        }
      ]
    },
    {
      "cell_type": "code",
      "source": [
        "x8=data['_MFCC_Mean_4']\n",
        "y=data['Class']\n",
        "pt.plot(x8,y)"
      ],
      "metadata": {
        "colab": {
          "base_uri": "https://localhost:8080/",
          "height": 282
        },
        "id": "3XiHmjvZCRve",
        "outputId": "a285a189-469d-4f0a-b681-010cb6c8901c"
      },
      "execution_count": 16,
      "outputs": [
        {
          "output_type": "execute_result",
          "data": {
            "text/plain": [
              "[<matplotlib.lines.Line2D at 0x7ff8e61cc850>]"
            ]
          },
          "metadata": {},
          "execution_count": 16
        },
        {
          "output_type": "display_data",
          "data": {
            "text/plain": [
              "<Figure size 432x288 with 1 Axes>"
            ],
            "image/png": "[encoded data removed]"
          },
          "metadata": {
            "needs_background": "light"
          }
        }
      ]
    },
    {
      "cell_type": "code",
      "source": [
        "x9=data['_MFCC_Mean_5']\n",
        "y=data['Class']\n",
        "pt.plot(x9,y)"
      ],
      "metadata": {
        "colab": {
          "base_uri": "https://localhost:8080/",
          "height": 282
        },
        "id": "wrN6PZgUCfrj",
        "outputId": "0733cc7b-a303-47c3-e608-2120417ddc3b"
      },
      "execution_count": 17,
      "outputs": [
        {
          "output_type": "execute_result",
          "data": {
            "text/plain": [
              "[<matplotlib.lines.Line2D at 0x7ff8e61bb4d0>]"
            ]
          },
          "metadata": {},
          "execution_count": 17
        },
        {
          "output_type": "display_data",
          "data": {
            "text/plain": [
              "<Figure size 432x288 with 1 Axes>"
            ],
            "image/png": "[encoded data removed]"
          },
          "metadata": {
            "needs_background": "light"
          }
        }
      ]
    },
    {
      "cell_type": "code",
      "source": [
        "x10=data['_MFCC_Mean_6']\n",
        "y=data['Class']\n",
        "pt.plot(x10,y)"
      ],
      "metadata": {
        "colab": {
          "base_uri": "https://localhost:8080/",
          "height": 282
        },
        "id": "ruq6sOptCiql",
        "outputId": "dd73f862-7ef8-4add-a9be-94fca26a2812"
      },
      "execution_count": 18,
      "outputs": [
        {
          "output_type": "execute_result",
          "data": {
            "text/plain": [
              "[<matplotlib.lines.Line2D at 0x7ff8e6122590>]"
            ]
          },
          "metadata": {},
          "execution_count": 18
        },
        {
          "output_type": "display_data",
          "data": {
            "text/plain": [
              "<Figure size 432x288 with 1 Axes>"
            ],
            "image/png": "[encoded data removed]"
          },
          "metadata": {
            "needs_background": "light"
          }
        }
      ]
    },
    {
      "cell_type": "code",
      "source": [
        "x11=data['_MFCC_Mean_7']\n",
        "y=data['Class']\n",
        "pt.plot(x11,y)"
      ],
      "metadata": {
        "colab": {
          "base_uri": "https://localhost:8080/",
          "height": 282
        },
        "id": "RI13v6NgCi6V",
        "outputId": "a02639e6-ead0-4ac2-8d19-b26295492e68"
      },
      "execution_count": 19,
      "outputs": [
        {
          "output_type": "execute_result",
          "data": {
            "text/plain": [
              "[<matplotlib.lines.Line2D at 0x7ff8e608a690>]"
            ]
          },
          "metadata": {},
          "execution_count": 19
        },
        {
          "output_type": "display_data",
          "data": {
            "text/plain": [
              "<Figure size 432x288 with 1 Axes>"
            ],
            "image/png": "[encoded data removed]"
          },
          "metadata": {
            "needs_background": "light"
          }
        }
      ]
    },
    {
      "cell_type": "code",
      "source": [
        "x12=data['_MFCC_Mean_8']\n",
        "y=data['Class']\n",
        "pt.plot(x12,y)"
      ],
      "metadata": {
        "colab": {
          "base_uri": "https://localhost:8080/",
          "height": 282
        },
        "id": "QvWWqobXCjGJ",
        "outputId": "3ab8eda1-b2c0-4627-e8c0-11656dbd8a85"
      },
      "execution_count": 20,
      "outputs": [
        {
          "output_type": "execute_result",
          "data": {
            "text/plain": [
              "[<matplotlib.lines.Line2D at 0x7ff8e606ee50>]"
            ]
          },
          "metadata": {},
          "execution_count": 20
        },
        {
          "output_type": "display_data",
          "data": {
            "text/plain": [
              "<Figure size 432x288 with 1 Axes>"
            ],
            "image/png": "[encoded data removed]"
          },
          "metadata": {
            "needs_background": "light"
          }
        }
      ]
    },
    {
      "cell_type": "code",
      "source": [
        "x13=data['_MFCC_Mean_9']\n",
        "y=data['Class']\n",
        "pt.plot(x13,y)"
      ],
      "metadata": {
        "colab": {
          "base_uri": "https://localhost:8080/",
          "height": 282
        },
        "id": "yjHjMJ_jCjQp",
        "outputId": "80541a8b-f783-4721-96b6-2066dd85e31e"
      },
      "execution_count": 21,
      "outputs": [
        {
          "output_type": "execute_result",
          "data": {
            "text/plain": [
              "[<matplotlib.lines.Line2D at 0x7ff8e60d8950>]"
            ]
          },
          "metadata": {},
          "execution_count": 21
        },
        {
          "output_type": "display_data",
          "data": {
            "text/plain": [
              "<Figure size 432x288 with 1 Axes>"
            ],
            "image/png": "[encoded data removed]"
          },
          "metadata": {
            "needs_background": "light"
          }
        }
      ]
    },
    {
      "cell_type": "code",
      "source": [
        "x14=data['_MFCC_Mean_10']\n",
        "y=data['Class']\n",
        "pt.plot(x14,y)"
      ],
      "metadata": {
        "colab": {
          "base_uri": "https://localhost:8080/",
          "height": 282
        },
        "id": "K-nwXcDACjTr",
        "outputId": "7884c87c-afb8-45d8-e046-495f6a6dd16c"
      },
      "execution_count": 22,
      "outputs": [
        {
          "output_type": "execute_result",
          "data": {
            "text/plain": [
              "[<matplotlib.lines.Line2D at 0x7ff8e5f90290>]"
            ]
          },
          "metadata": {},
          "execution_count": 22
        },
        {
          "output_type": "display_data",
          "data": {
            "text/plain": [
              "<Figure size 432x288 with 1 Axes>"
            ],
            "image/png": "[encoded data removed]"
          },
          "metadata": {
            "needs_background": "light"
          }
        }
      ]
    },
    {
      "cell_type": "code",
      "source": [
        "x15=data['_MFCC_Mean_11']\n",
        "y=data['Class']\n",
        "pt.plot(x15,y)"
      ],
      "metadata": {
        "colab": {
          "base_uri": "https://localhost:8080/",
          "height": 282
        },
        "id": "iNXbWTNcCjWc",
        "outputId": "ab536abd-a995-4dc4-f23f-af7139d49fdc"
      },
      "execution_count": 23,
      "outputs": [
        {
          "output_type": "execute_result",
          "data": {
            "text/plain": [
              "[<matplotlib.lines.Line2D at 0x7ff8e5f69990>]"
            ]
          },
          "metadata": {},
          "execution_count": 23
        },
        {
          "output_type": "display_data",
          "data": {
            "text/plain": [
              "<Figure size 432x288 with 1 Axes>"
            ],
            "image/png": "[encoded data removed]"
          },
          "metadata": {
            "needs_background": "light"
          }
        }
      ]
    },
    {
      "cell_type": "code",
      "source": [
        "x16=data['_MFCC_Mean_12']\n",
        "y=data['Class']\n",
        "pt.plot(x16,y)"
      ],
      "metadata": {
        "colab": {
          "base_uri": "https://localhost:8080/",
          "height": 282
        },
        "id": "vnx6yfnPCjY5",
        "outputId": "a9371b63-c8c5-462e-a9e0-99481e81effc"
      },
      "execution_count": 24,
      "outputs": [
        {
          "output_type": "execute_result",
          "data": {
            "text/plain": [
              "[<matplotlib.lines.Line2D at 0x7ff8e64346d0>]"
            ]
          },
          "metadata": {},
          "execution_count": 24
        },
        {
          "output_type": "display_data",
          "data": {
            "text/plain": [
              "<Figure size 432x288 with 1 Axes>"
            ],
            "image/png": "[encoded data removed]"
          },
          "metadata": {
            "needs_background": "light"
          }
        }
      ]
    },
    {
      "cell_type": "code",
      "source": [
        "x17=data['_MFCC_Mean_13']\n",
        "y=data['Class']\n",
        "pt.plot(x17,y)"
      ],
      "metadata": {
        "colab": {
          "base_uri": "https://localhost:8080/",
          "height": 282
        },
        "id": "8HyDhw2wCjbR",
        "outputId": "76a9a26e-3044-447b-c487-23f1ce07e413"
      },
      "execution_count": 25,
      "outputs": [
        {
          "output_type": "execute_result",
          "data": {
            "text/plain": [
              "[<matplotlib.lines.Line2D at 0x7ff8e62d4290>]"
            ]
          },
          "metadata": {},
          "execution_count": 25
        },
        {
          "output_type": "display_data",
          "data": {
            "text/plain": [
              "<Figure size 432x288 with 1 Axes>"
            ],
            "image/png": "[encoded data removed]"
          },
          "metadata": {
            "needs_background": "light"
          }
        }
      ]
    },
    {
      "cell_type": "code",
      "source": [
        "x18=data['_Roughness_Mean']\n",
        "y=data['Class']\n",
        "pt.plot(x18,y)"
      ],
      "metadata": {
        "colab": {
          "base_uri": "https://localhost:8080/",
          "height": 282
        },
        "id": "wCLMpLlUCjdm",
        "outputId": "90915453-c4e5-4b28-b553-f640697db92e"
      },
      "execution_count": 26,
      "outputs": [
        {
          "output_type": "execute_result",
          "data": {
            "text/plain": [
              "[<matplotlib.lines.Line2D at 0x7ff8e6939950>]"
            ]
          },
          "metadata": {},
          "execution_count": 26
        },
        {
          "output_type": "display_data",
          "data": {
            "text/plain": [
              "<Figure size 432x288 with 1 Axes>"
            ],
            "image/png": "[encoded data removed]"
          },
          "metadata": {
            "needs_background": "light"
          }
        }
      ]
    },
    {
      "cell_type": "code",
      "source": [
        "x19=data['_Roughness_Slope']\n",
        "y=data['Class']\n",
        "pt.plot(x19,y)"
      ],
      "metadata": {
        "colab": {
          "base_uri": "https://localhost:8080/",
          "height": 282
        },
        "id": "IvrZnC8rCjf-",
        "outputId": "d17d3f2c-9707-4d4f-b49e-492a2eeb699e"
      },
      "execution_count": 27,
      "outputs": [
        {
          "output_type": "execute_result",
          "data": {
            "text/plain": [
              "[<matplotlib.lines.Line2D at 0x7ff8e5dec350>]"
            ]
          },
          "metadata": {},
          "execution_count": 27
        },
        {
          "output_type": "display_data",
          "data": {
            "text/plain": [
              "<Figure size 432x288 with 1 Axes>"
            ],
            "image/png": "[encoded data removed]"
          },
          "metadata": {
            "needs_background": "light"
          }
        }
      ]
    },
    {
      "cell_type": "code",
      "source": [
        ""
      ],
      "metadata": {
        "id": "DPfA2IY_EKy5"
      },
      "execution_count": null,
      "outputs": []
    }
  ]
}